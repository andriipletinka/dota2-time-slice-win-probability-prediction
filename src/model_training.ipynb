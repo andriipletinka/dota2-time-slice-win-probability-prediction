{
 "cells": [
  {
   "cell_type": "code",
   "execution_count": 1,
   "id": "71a0ec31",
   "metadata": {},
   "outputs": [],
   "source": [
    "import os\n",
    "import json\n",
    "import pandas as pd\n",
    "\n",
    "import torch\n",
    "import torch.nn as nn\n",
    "import torch.nn.functional as F\n",
    "from torch.utils.data import Dataset, DataLoader, random_split\n",
    "\n",
    "import matplotlib.pyplot as plt"
   ]
  },
  {
   "cell_type": "code",
   "execution_count": 2,
   "id": "07b8e9f5",
   "metadata": {},
   "outputs": [
    {
     "data": {
      "text/plain": [
       "device(type='cuda')"
      ]
     },
     "execution_count": 2,
     "metadata": {},
     "output_type": "execute_result"
    }
   ],
   "source": [
    "device = torch.device('cuda' if torch.cuda.is_available() else 'cpu')\n",
    "device"
   ]
  },
  {
   "cell_type": "code",
   "execution_count": 3,
   "id": "4dcef849",
   "metadata": {},
   "outputs": [],
   "source": [
    "match_data_path = \"../data/match_data.json\"\n",
    "replay_data_path = \"../data/processed_replays/\"\n",
    "\n",
    "match_data_df = pd.read_json(match_data_path)\n",
    "match_files = [os.path.join(replay_data_path, f) for f in os.listdir(replay_data_path)]"
   ]
  },
  {
   "cell_type": "code",
   "execution_count": 4,
   "id": "47d7278c",
   "metadata": {},
   "outputs": [
    {
     "name": "stdout",
     "output_type": "stream",
     "text": [
      "Max sequence length: 123\n"
     ]
    }
   ],
   "source": [
    "hero2idx_path = \"../data/hero_to_idx.json\"\n",
    "item2idx_path = \"../data/item_to_idx.json\"\n",
    "\n",
    "if not os.path.exists(hero2idx_path) or not os.path.exists(item2idx_path):\n",
    "    max_seq_len = 0\n",
    "    hero_set = set()\n",
    "    item_set = set()\n",
    "\n",
    "    for match in match_files:\n",
    "        with open(match, 'r') as f:\n",
    "            match_data = json.load(f)\n",
    "        seq_len = len(match_data)\n",
    "        if seq_len > max_seq_len:\n",
    "            max_seq_len = seq_len\n",
    "        for ts in match_data:\n",
    "            for team in ('radiant', 'dire'):\n",
    "                for player in match_data[ts][team]['players']:\n",
    "                    hero_set.add(player['heroId'])\n",
    "                    inv = [item['id'] for item in player['inventory']]\n",
    "                    item_set.update([item['id'] for item in player['inventory']])\n",
    "\n",
    "    hero_to_idx = {hid: idx for idx, hid in enumerate(sorted(hero_set))}\n",
    "    item_to_idx = {'<PAD>': 0}\n",
    "    for idx, name in enumerate(sorted(item_set), start=1):\n",
    "        item_to_idx[name] = idx\n",
    "\n",
    "    with open(hero2idx_path, \"w\") as hero_file:\n",
    "        json.dump(hero_to_idx, hero_file)\n",
    "    with open(item2idx_path, \"w\") as item_file:\n",
    "        json.dump(item_to_idx, item_file)\n",
    "else:\n",
    "    max_seq_len = 123\n",
    "    with open(hero2idx_path, \"r\") as hero_file:\n",
    "        hero_to_idx = json.load(hero_file)\n",
    "    with open(item2idx_path, \"r\") as item_file:\n",
    "        item_to_idx = json.load(item_file)\n",
    "\n",
    "print(f\"Max sequence length: {max_seq_len}\")"
   ]
  },
  {
   "cell_type": "markdown",
   "id": "03ad1921",
   "metadata": {},
   "source": [
    "### Define Dataset Class"
   ]
  },
  {
   "cell_type": "code",
   "execution_count": 5,
   "id": "31024121",
   "metadata": {},
   "outputs": [],
   "source": [
    "def encode_timeslice(state, hero_to_idx, item_to_idx):\n",
    "    \"\"\"\n",
    "    Encode a single timeslice state into 1-D representation: (hero_ids, item_ids, player_numeric, team_numeric)\n",
    "    \"\"\"\n",
    "    hero_ids = []\n",
    "    item_ids = []\n",
    "    player_numeric = []\n",
    "    player_num_keys = [\n",
    "        \"level\",\"xp\",\"networth\",\"totalGold\",\"currentGold\",\"lifeState\",\n",
    "        \"respawnSeconds\",\"buybackCooldown\",\"heroDamage\",\"towerDamage\",\n",
    "        \"damageTakenPostReduction\",\"kills\",\"deaths\",\"assists\",\"lastHits\",\n",
    "        \"denies\",\"teamfightParticipation\",\"obsPlaced\",\"senPlaced\"\n",
    "    ]\n",
    "\n",
    "    for team in (\"radiant\", \"dire\"):\n",
    "        for player in state[team][\"players\"]:\n",
    "            hero_ids.append(hero_to_idx[str(player[\"heroId\"])])\n",
    "            inv_ids = []\n",
    "            for slot in range(6):\n",
    "                if slot < len(player[\"inventory\"]):\n",
    "                    item_name = player[\"inventory\"][slot].get(\"id\")\n",
    "                    inv_ids.append(item_to_idx.get(item_name, item_to_idx[\"<PAD>\"]))\n",
    "                else:\n",
    "                    inv_ids.append(item_to_idx[\"<PAD>\"])\n",
    "            item_ids.append(inv_ids)\n",
    "            numeric_vals = [player[key] for key in player_num_keys]\n",
    "            player_numeric.append(numeric_vals)\n",
    "\n",
    "    team_numeric = []\n",
    "    team_num_keys = [\n",
    "        \"totalCampsStacked\",\"totalRunePickups\",\"totalTowersKilled\",\"totalRoshansKilled\",\n",
    "        \"totalSmokesUsed\",\"numWards\",\"pdistMean\",\"pdistMax\",\"pdistStd\",\n",
    "        \"centroidWardMean\",\"hwMean\",\"hwMin\",\"hwMax\"\n",
    "    ]\n",
    "    building_keys = state[\"radiant\"][\"buildings\"].keys()\n",
    "\n",
    "    for team in (\"radiant\", \"dire\"):\n",
    "        buildings = [state[team][\"buildings\"][bk][\"health\"] for bk in building_keys]\n",
    "        other = [state[team].get(k, 0) for k in team_num_keys]\n",
    "        team_numeric.append(buildings + other)\n",
    "\n",
    "    player_numeric = torch.tensor(player_numeric, dtype=torch.float32)\n",
    "    team_numeric = torch.tensor(team_numeric, dtype=torch.float32)\n",
    "    player_numeric = torch.log1p(player_numeric)\n",
    "    team_numeric = torch.log1p(team_numeric)\n",
    "\n",
    "    return hero_ids, item_ids, player_numeric, team_numeric"
   ]
  },
  {
   "cell_type": "code",
   "execution_count": 6,
   "id": "ebc4f11a",
   "metadata": {},
   "outputs": [],
   "source": [
    "class NextSliceDataset(Dataset):\n",
    "    \"\"\"\n",
    "    Dataset for next-slice prediction. Provides sliding windows of timeslices.\n",
    "    \"\"\"\n",
    "    def __init__(self, matches_dir, match_data, hero_to_idx, item_to_idx, window_size=20):\n",
    "        self.window_size = window_size\n",
    "        self.hero_to_idx = hero_to_idx\n",
    "        self.item_to_idx = item_to_idx\n",
    "        self.match_data = match_data\n",
    "        self.matches_dir = matches_dir\n",
    "        self.match_ids = [int(f.split(\"/\")[-1].split(\".\")[0]) for f in os.listdir(matches_dir)]\n",
    "        self.windows = []\n",
    "\n",
    "        for match_id in self.match_ids:\n",
    "            with open(os.path.join(matches_dir, f\"{match_id}.json\"), 'r') as f:\n",
    "                data = json.load(f)\n",
    "            num_slices = len(data)\n",
    "            if num_slices < window_size:\n",
    "                print(f\"Match {match_id} has only {num_slices} slices, less than window size {window_size}.\")\n",
    "                continue\n",
    "            md = self.match_data\n",
    "            outcome_label = md.loc[md[\"match_id\"] == match_id][\"radiant_win\"].astype(int).values[0]\n",
    "            for start in range(num_slices - window_size):\n",
    "                self.windows.append((match_id, start, outcome_label))\n",
    "    \n",
    "    def __len__(self):\n",
    "        return len(self.windows)\n",
    "\n",
    "    def __getitem__(self, idx):\n",
    "        match_id, start, label = self.windows[idx]\n",
    "        fpath = os.path.join(self.matches_dir, f\"{match_id}.json\")\n",
    "        with open(fpath, 'r') as f:\n",
    "            data = json.load(f)\n",
    "        time_keys = list(data.keys())\n",
    "        hero_w, item_w, pnum_w, tnum_w = [], [], [], []\n",
    "        for offset in range(self.window_size + 1):\n",
    "            state = data[time_keys[start + offset]]\n",
    "            h, it, pnum, tnum = encode_timeslice(state, self.hero_to_idx, self.item_to_idx)\n",
    "            if offset < self.window_size:\n",
    "                hero_w.append(h)\n",
    "                item_w.append(it)\n",
    "                pnum_w.append(pnum)\n",
    "                tnum_w.append(tnum)\n",
    "            else:\n",
    "                pnum_tgt, tnum_tgt = pnum, tnum\n",
    "\n",
    "        hero_window = torch.tensor(hero_w, dtype=torch.long)\n",
    "        item_window = torch.tensor(item_w, dtype=torch.long)\n",
    "        player_num_window = torch.stack(pnum_w).float()\n",
    "        team_num_window = torch.stack(tnum_w).float()\n",
    "\n",
    "        target_numeric = torch.cat([pnum_tgt.view(-1), tnum_tgt.view(-1)])\n",
    "        return hero_window, item_window, player_num_window, team_num_window, target_numeric, label"
   ]
  },
  {
   "cell_type": "code",
   "execution_count": 7,
   "id": "d3a8c4a8",
   "metadata": {},
   "outputs": [],
   "source": [
    "class OutcomeDataset(Dataset):\n",
    "    \"\"\"\n",
    "    Dataset for win/lose classification. Uses the last window of each match.\n",
    "    \"\"\"\n",
    "    def __init__(self, next_slice_dataset: NextSliceDataset):\n",
    "        self.dataset = next_slice_dataset\n",
    "        self.indices = []\n",
    "        max_start = {}\n",
    "        for idx, (match_id, start, _) in enumerate(self.dataset.windows):\n",
    "            max_start[match_id] = max(max_start.get(match_id, -1), start)\n",
    "\n",
    "        for idx, (match_id, start, label) in enumerate(self.dataset.windows):\n",
    "            if start == max_start[match_id]:\n",
    "                self.indices.append(idx)\n",
    "\n",
    "    def __len__(self):\n",
    "        return len(self.indices)\n",
    "\n",
    "    def __getitem__(self, idx):\n",
    "        win_idx = self.indices[idx]\n",
    "        hero_w, item_w, pnum_w, tnum_w, _, label = self.dataset[win_idx]\n",
    "        return hero_w, item_w, pnum_w, tnum_w, torch.tensor(label, dtype=torch.long)"
   ]
  },
  {
   "cell_type": "markdown",
   "id": "66f71a29",
   "metadata": {},
   "source": [
    "### Train Models"
   ]
  },
  {
   "cell_type": "code",
   "execution_count": 1,
   "id": "d06b1a1a",
   "metadata": {},
   "outputs": [],
   "source": [
    "from tqdm import tqdm\n",
    "\n",
    "from models import TimesliceTransformer, OutcomeMLP"
   ]
  },
  {
   "cell_type": "markdown",
   "id": "25458693",
   "metadata": {},
   "source": [
    "#### Pretrain"
   ]
  },
  {
   "cell_type": "code",
   "execution_count": 11,
   "id": "a683c409",
   "metadata": {},
   "outputs": [],
   "source": [
    "window_size = 20\n",
    "batch_size = 256\n",
    "epochs = 10\n",
    "lr = 1e-4"
   ]
  },
  {
   "cell_type": "code",
   "execution_count": 12,
   "id": "bbbb763a",
   "metadata": {},
   "outputs": [],
   "source": [
    "ds = NextSliceDataset(\n",
    "    matches_dir=replay_data_path,\n",
    "    match_data=match_data_df,\n",
    "    hero_to_idx=hero_to_idx,\n",
    "    item_to_idx=item_to_idx,\n",
    "    window_size=window_size\n",
    ")"
   ]
  },
  {
   "cell_type": "code",
   "execution_count": 17,
   "id": "936b44bd",
   "metadata": {},
   "outputs": [],
   "source": [
    "val_split = 0.15\n",
    "val_size = int(len(ds) * val_split)\n",
    "train_size = len(ds) - val_size\n",
    "train_ds, val_ds = random_split(ds, [train_size, val_size])\n",
    "\n",
    "train_loader = DataLoader(\n",
    "    train_ds, batch_size=batch_size, shuffle=True, pin_memory=True\n",
    ")\n",
    "val_loader = DataLoader(val_ds, batch_size=batch_size, shuffle=False)"
   ]
  },
  {
   "cell_type": "code",
   "execution_count": 13,
   "id": "307e0053",
   "metadata": {},
   "outputs": [],
   "source": [
    "model = TimesliceTransformer(\n",
    "    hero_vocab_size=len(hero_to_idx),\n",
    "    item_vocab_size=len(item_to_idx),\n",
    "    max_seq_len=max_seq_len,\n",
    ").to(device)\n",
    "optimizer = torch.optim.Adam(model.parameters(), lr=lr)"
   ]
  },
  {
   "cell_type": "code",
   "execution_count": 16,
   "id": "805b2bc3",
   "metadata": {},
   "outputs": [
    {
     "data": {
      "text/plain": [
       "TimesliceTransformer(\n",
       "  (hero_emb): Embedding(125, 16)\n",
       "  (item_emb): Embedding(326, 8, padding_idx=0)\n",
       "  (input_proj): Linear(in_features=892, out_features=512, bias=True)\n",
       "  (input_norm): LayerNorm((512,), eps=1e-05, elementwise_affine=True)\n",
       "  (dropout): Dropout(p=0.2, inplace=False)\n",
       "  (transformer_encoder): TransformerEncoder(\n",
       "    (layers): ModuleList(\n",
       "      (0-7): 8 x TransformerEncoderLayer(\n",
       "        (self_attn): MultiheadAttention(\n",
       "          (out_proj): NonDynamicallyQuantizableLinear(in_features=512, out_features=512, bias=True)\n",
       "        )\n",
       "        (linear1): Linear(in_features=512, out_features=1024, bias=True)\n",
       "        (dropout): Dropout(p=0.2, inplace=False)\n",
       "        (linear2): Linear(in_features=1024, out_features=512, bias=True)\n",
       "        (norm1): LayerNorm((512,), eps=1e-05, elementwise_affine=True)\n",
       "        (norm2): LayerNorm((512,), eps=1e-05, elementwise_affine=True)\n",
       "        (dropout1): Dropout(p=0.2, inplace=False)\n",
       "        (dropout2): Dropout(p=0.2, inplace=False)\n",
       "      )\n",
       "    )\n",
       "  )\n",
       "  (transformer_decoder): TransformerDecoder(\n",
       "    (layers): ModuleList(\n",
       "      (0-7): 8 x TransformerDecoderLayer(\n",
       "        (self_attn): MultiheadAttention(\n",
       "          (out_proj): NonDynamicallyQuantizableLinear(in_features=512, out_features=512, bias=True)\n",
       "        )\n",
       "        (multihead_attn): MultiheadAttention(\n",
       "          (out_proj): NonDynamicallyQuantizableLinear(in_features=512, out_features=512, bias=True)\n",
       "        )\n",
       "        (linear1): Linear(in_features=512, out_features=1024, bias=True)\n",
       "        (dropout): Dropout(p=0.2, inplace=False)\n",
       "        (linear2): Linear(in_features=1024, out_features=512, bias=True)\n",
       "        (norm1): LayerNorm((512,), eps=1e-05, elementwise_affine=True)\n",
       "        (norm2): LayerNorm((512,), eps=1e-05, elementwise_affine=True)\n",
       "        (norm3): LayerNorm((512,), eps=1e-05, elementwise_affine=True)\n",
       "        (dropout1): Dropout(p=0.2, inplace=False)\n",
       "        (dropout2): Dropout(p=0.2, inplace=False)\n",
       "        (dropout3): Dropout(p=0.2, inplace=False)\n",
       "      )\n",
       "    )\n",
       "  )\n",
       "  (pred_head): Linear(in_features=512, out_features=252, bias=True)\n",
       ")"
      ]
     },
     "execution_count": 16,
     "metadata": {},
     "output_type": "execute_result"
    }
   ],
   "source": [
    "model"
   ]
  },
  {
   "cell_type": "code",
   "execution_count": 17,
   "id": "241a9c87",
   "metadata": {},
   "outputs": [
    {
     "name": "stdout",
     "output_type": "stream",
     "text": [
      "Total parameters:     42,650,364\n",
      "Trainable parameters: 42,650,364\n"
     ]
    }
   ],
   "source": [
    "total_params = sum(p.numel() for p in model.parameters())\n",
    "trainable_params = sum(p.numel() for p in model.parameters() if p.requires_grad)\n",
    "\n",
    "print(f\"Total parameters:     {total_params:,}\")\n",
    "print(f\"Trainable parameters: {trainable_params:,}\")"
   ]
  },
  {
   "cell_type": "code",
   "execution_count": 18,
   "id": "c365daf1",
   "metadata": {},
   "outputs": [],
   "source": [
    "os.makedirs(\"../weights/\", exist_ok=True)"
   ]
  },
  {
   "cell_type": "code",
   "execution_count": null,
   "id": "f71164c7",
   "metadata": {},
   "outputs": [],
   "source": [
    "train_losses, val_losses = [], []"
   ]
  },
  {
   "cell_type": "code",
   "execution_count": 25,
   "id": "79af9f64",
   "metadata": {},
   "outputs": [
    {
     "name": "stderr",
     "output_type": "stream",
     "text": [
      "                                                                       \r"
     ]
    },
    {
     "name": "stdout",
     "output_type": "stream",
     "text": [
      "Epoch 1/10 → Train Loss: 0.3065, Val Loss: 0.2484\n"
     ]
    },
    {
     "name": "stderr",
     "output_type": "stream",
     "text": [
      "                                                                       \r"
     ]
    },
    {
     "name": "stdout",
     "output_type": "stream",
     "text": [
      "Epoch 2/10 → Train Loss: 0.2655, Val Loss: 0.2270\n"
     ]
    },
    {
     "name": "stderr",
     "output_type": "stream",
     "text": [
      "                                                                       \r"
     ]
    },
    {
     "name": "stdout",
     "output_type": "stream",
     "text": [
      "Epoch 3/10 → Train Loss: 0.2461, Val Loss: 0.2157\n"
     ]
    },
    {
     "name": "stderr",
     "output_type": "stream",
     "text": [
      "                                                                       \r"
     ]
    },
    {
     "name": "stdout",
     "output_type": "stream",
     "text": [
      "Epoch 4/10 → Train Loss: 0.2339, Val Loss: 0.2093\n"
     ]
    },
    {
     "name": "stderr",
     "output_type": "stream",
     "text": [
      "                                                                       \r"
     ]
    },
    {
     "name": "stdout",
     "output_type": "stream",
     "text": [
      "Epoch 5/10 → Train Loss: 0.2257, Val Loss: 0.2040\n"
     ]
    },
    {
     "name": "stderr",
     "output_type": "stream",
     "text": [
      "                                                                       \r"
     ]
    },
    {
     "name": "stdout",
     "output_type": "stream",
     "text": [
      "Epoch 6/10 → Train Loss: 0.2191, Val Loss: 0.1991\n"
     ]
    },
    {
     "name": "stderr",
     "output_type": "stream",
     "text": [
      "                                                                       \r"
     ]
    },
    {
     "name": "stdout",
     "output_type": "stream",
     "text": [
      "Epoch 7/10 → Train Loss: 0.2138, Val Loss: 0.1985\n"
     ]
    },
    {
     "name": "stderr",
     "output_type": "stream",
     "text": [
      "                                                                       \r"
     ]
    },
    {
     "name": "stdout",
     "output_type": "stream",
     "text": [
      "Epoch 8/10 → Train Loss: 0.2096, Val Loss: 0.1948\n"
     ]
    },
    {
     "name": "stderr",
     "output_type": "stream",
     "text": [
      "                                                                       \r"
     ]
    },
    {
     "name": "stdout",
     "output_type": "stream",
     "text": [
      "Epoch 9/10 → Train Loss: 0.2060, Val Loss: 0.1936\n"
     ]
    },
    {
     "name": "stderr",
     "output_type": "stream",
     "text": [
      "                                                                        \r"
     ]
    },
    {
     "name": "stdout",
     "output_type": "stream",
     "text": [
      "Epoch 10/10 → Train Loss: 0.2030, Val Loss: 0.1932\n"
     ]
    }
   ],
   "source": [
    "for epoch in range(1, epochs+1):\n",
    "    model.train()\n",
    "    train_loss = 0.0\n",
    "    loop = tqdm(train_loader, desc=f\"Train Epoch {epoch}/{epochs}\", leave=False)\n",
    "    for hero_w, item_w, pnum_w, tnum_w, target, _ in loop:\n",
    "        hero_w = hero_w.to(device)\n",
    "        item_w = item_w.to(device)\n",
    "        pnum_w = pnum_w.to(device)\n",
    "        tnum_w = tnum_w.to(device)\n",
    "        target = target.to(device)\n",
    "        optimizer.zero_grad()\n",
    "        pred = model(hero_w, item_w, pnum_w, tnum_w)\n",
    "        loss = F.mse_loss(pred, target)\n",
    "        loss.backward()\n",
    "        torch.nn.utils.clip_grad_norm_(model.parameters(), 1.0)\n",
    "        optimizer.step()\n",
    "        train_loss += loss.item()\n",
    "    avg_train = train_loss / len(train_loader)\n",
    "\n",
    "    model.eval()\n",
    "    val_loss = 0.0\n",
    "    with torch.no_grad():\n",
    "        for hero_w, item_w, pnum_w, tnum_w, target, _ in val_loader:\n",
    "            hero_w, item_w = hero_w.to(device), item_w.to(device)\n",
    "            pnum_w, tnum_w = pnum_w.to(device), tnum_w.to(device)\n",
    "            target = target.to(device)\n",
    "            pred = model(hero_w, item_w, pnum_w, tnum_w)\n",
    "            loss = F.mse_loss(pred, target)\n",
    "            val_loss += loss.item()\n",
    "    avg_val = val_loss / len(val_loader)\n",
    "\n",
    "    train_losses.append(avg_train)\n",
    "    val_losses.append(avg_val)\n",
    "    print(f\"Epoch {epoch}/{epochs} → Train Loss: {avg_train:.4f}, Val Loss: {avg_val:.4f}\")\n",
    "    torch.save(model.state_dict(), f'../weights/transformer_pretrained_{epoch}.pth')"
   ]
  },
  {
   "cell_type": "code",
   "execution_count": 26,
   "id": "b3657d33",
   "metadata": {},
   "outputs": [
    {
     "data": {
      "image/png": "[encoded data removed]",
      "text/plain": [
       "<Figure size 600x400 with 1 Axes>"
      ]
     },
     "metadata": {},
     "output_type": "display_data"
    }
   ],
   "source": [
    "epochs = range(1, len(train_losses) + 1)\n",
    "\n",
    "plt.figure(figsize=(6,4))\n",
    "plt.plot(epochs, train_losses, marker='o', label='Train Loss')\n",
    "plt.plot(epochs, val_losses,   marker='s', label='Val Loss')\n",
    "plt.title('Pretrain Loss per Epoch')\n",
    "plt.xlabel('Epoch')\n",
    "plt.ylabel('MSE Loss')\n",
    "plt.legend()\n",
    "plt.grid(True)\n",
    "plt.tight_layout()\n",
    "plt.show()"
   ]
  },
  {
   "cell_type": "markdown",
   "id": "605f2cc9",
   "metadata": {},
   "source": [
    "#### Finetune"
   ]
  },
  {
   "cell_type": "code",
   "execution_count": 14,
   "id": "acad8d9f",
   "metadata": {},
   "outputs": [
    {
     "data": {
      "text/plain": [
       "<All keys matched successfully>"
      ]
     },
     "execution_count": 14,
     "metadata": {},
     "output_type": "execute_result"
    }
   ],
   "source": [
    "model.load_state_dict(torch.load('../weights/transformer_pretrained_10.pth', map_location=device))"
   ]
  },
  {
   "cell_type": "code",
   "execution_count": 15,
   "id": "0dd54313",
   "metadata": {},
   "outputs": [],
   "source": [
    "batch_size = 256\n",
    "epochs = 3\n",
    "lr = 1e-3"
   ]
  },
  {
   "cell_type": "code",
   "execution_count": 18,
   "id": "0b1088b1",
   "metadata": {},
   "outputs": [],
   "source": [
    "ds_out = OutcomeDataset(ds)\n",
    "val_size = int(len(ds_out) * val_split)\n",
    "train_size = len(ds_out) - val_size\n",
    "train_ds, val_ds = random_split(ds_out, [train_size, val_size])\n",
    "\n",
    "train_loader = DataLoader(train_ds, batch_size=batch_size, shuffle=True)\n",
    "val_loader = DataLoader(val_ds, batch_size=batch_size, shuffle=False)\n",
    "\n",
    "model.to(device).eval()\n",
    "for p in model.parameters():\n",
    "    p.requires_grad = False\n",
    "\n",
    "mlp = OutcomeMLP(model_dim=model.input_proj.out_features, hidden_dim=128).to(device)\n",
    "optimizer = torch.optim.Adam(mlp.parameters(), lr=lr)\n",
    "criterion = nn.BCEWithLogitsLoss()"
   ]
  },
  {
   "cell_type": "code",
   "execution_count": 19,
   "id": "fb59b819",
   "metadata": {},
   "outputs": [
    {
     "name": "stderr",
     "output_type": "stream",
     "text": [
      "                                                          \r"
     ]
    },
    {
     "name": "stdout",
     "output_type": "stream",
     "text": [
      "Epoch 1/3 → Train Loss: 0.1310, Train Acc: 96.412% | Val Loss: 0.0273, Val Acc: 98.933%\n"
     ]
    },
    {
     "name": "stderr",
     "output_type": "stream",
     "text": [
      "                                                          \r"
     ]
    },
    {
     "name": "stdout",
     "output_type": "stream",
     "text": [
      "Epoch 2/3 → Train Loss: 0.0203, Train Acc: 99.362% | Val Loss: 0.0221, Val Acc: 99.111%\n"
     ]
    },
    {
     "name": "stderr",
     "output_type": "stream",
     "text": [
      "                                                          \r"
     ]
    },
    {
     "name": "stdout",
     "output_type": "stream",
     "text": [
      "Epoch 3/3 → Train Loss: 0.0171, Train Acc: 99.529% | Val Loss: 0.0237, Val Acc: 98.933%\n"
     ]
    }
   ],
   "source": [
    "train_losses, val_losses = [], []\n",
    "train_accs, val_accs = [], []\n",
    "\n",
    "for epoch in range(1, epochs+1):\n",
    "    mlp.train()\n",
    "    running_loss = 0.0\n",
    "    correct_preds = 0\n",
    "    total_samples = 0\n",
    "\n",
    "    loop = tqdm(train_loader, desc=f\"Epoch {epoch}/{epochs}\", leave=False)\n",
    "    for hero_w, item_w, pnum_w, tnum_w, label in loop:\n",
    "        hero_w, item_w = hero_w.to(device), item_w.to(device)\n",
    "        pnum_w, tnum_w = pnum_w.to(device), tnum_w.to(device)\n",
    "        label = label.to(device)\n",
    "\n",
    "        with torch.no_grad():\n",
    "            feat = model.encode_sequence(hero_w, item_w, pnum_w, tnum_w)\n",
    "\n",
    "        logits = mlp(feat)\n",
    "        loss = F.binary_cross_entropy_with_logits(logits, label.float())\n",
    "        \n",
    "        optimizer.zero_grad()\n",
    "        loss.backward()\n",
    "        optimizer.step()\n",
    "\n",
    "        running_loss += loss.item() * label.size(0)\n",
    "        \n",
    "        probs = torch.sigmoid(logits)\n",
    "        preds = (probs > 0.5).long()\n",
    "        correct_preds += (preds == label).sum().item()\n",
    "        total_samples += label.size(0)\n",
    "\n",
    "    avg_train_loss = running_loss / total_samples\n",
    "    train_acc = correct_preds / total_samples\n",
    "\n",
    "    mlp.eval()\n",
    "    val_loss = 0.0\n",
    "    val_correct = 0\n",
    "    val_total = 0\n",
    "\n",
    "    with torch.no_grad():\n",
    "        for hero_w, item_w, pnum_w, tnum_w, label in val_loader:\n",
    "            hero_w, item_w = hero_w.to(device), item_w.to(device)\n",
    "            pnum_w, tnum_w = pnum_w.to(device), tnum_w.to(device)\n",
    "            label = label.to(device)\n",
    "\n",
    "            feat = model.encode_sequence(hero_w, item_w, pnum_w, tnum_w)\n",
    "            logits = mlp(feat)\n",
    "            loss = F.binary_cross_entropy_with_logits(logits, label.float())\n",
    "\n",
    "            val_loss += loss.item() * label.size(0)\n",
    "            probs = torch.sigmoid(logits)\n",
    "            preds = (probs > 0.5).long()\n",
    "            val_correct += (preds == label).sum().item()\n",
    "            val_total += label.size(0)\n",
    "\n",
    "    avg_val_loss = val_loss / val_total\n",
    "    val_acc = val_correct / val_total\n",
    "\n",
    "    train_losses.append(avg_train_loss)\n",
    "    val_losses.append(avg_val_loss)\n",
    "    train_accs.append(train_acc)\n",
    "    val_accs.append(val_acc)\n",
    "\n",
    "    print(f\"Epoch {epoch}/{epochs} → \"\n",
    "          f\"Train Loss: {avg_train_loss:.4f}, Train Acc: {train_acc:.3%} | \"\n",
    "          f\"Val Loss: {avg_val_loss:.4f}, Val Acc: {val_acc:.3%}\")\n",
    "\n",
    "    torch.save(mlp.state_dict(), f'../weights/outcome_mlp_{epoch}.pth')"
   ]
  },
  {
   "cell_type": "code",
   "execution_count": 7,
   "id": "e9063f0a",
   "metadata": {},
   "outputs": [
    {
     "data": {
      "image/png": "[encoded data removed]",
      "text/plain": [
       "<Figure size 600x400 with 1 Axes>"
      ]
     },
     "metadata": {},
     "output_type": "display_data"
    }
   ],
   "source": [
    "epochs = range(1, len(train_losses) + 1)\n",
    "\n",
    "plt.figure(figsize=(6,4))\n",
    "plt.plot(epochs, train_losses, marker='o', label='Train Loss')\n",
    "plt.plot(epochs, val_losses,   marker='s', label='Val Loss')\n",
    "plt.title('Loss per Epoch')\n",
    "plt.xlabel('Epoch')\n",
    "plt.ylabel('BCE Loss')\n",
    "plt.legend()\n",
    "plt.grid(True)\n",
    "plt.tight_layout()\n",
    "plt.show()"
   ]
  },
  {
   "cell_type": "code",
   "execution_count": null,
   "id": "e9ea3c3a",
   "metadata": {},
   "outputs": [],
   "source": []
  }
 ],
 "metadata": {
  "kernelspec": {
   "display_name": "venv",
   "language": "python",
   "name": "python3"
  },
  "language_info": {
   "codemirror_mode": {
    "name": "ipython",
    "version": 3
   },
   "file_extension": ".py",
   "mimetype": "text/x-python",
   "name": "python",
   "nbconvert_exporter": "python",
   "pygments_lexer": "ipython3",
   "version": "3.9.13"
  }
 },
 "nbformat": 4,
 "nbformat_minor": 5
}
