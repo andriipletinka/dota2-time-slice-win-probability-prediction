{
 "cells": [
  {
   "cell_type": "code",
   "execution_count": 56,
   "id": "8e847418",
   "metadata": {},
   "outputs": [],
   "source": [
    "import os\n",
    "import json\n",
    "from itertools import combinations\n",
    "from math import sqrt\n",
    "\n",
    "import numpy as np\n",
    "import tqdm"
   ]
  },
  {
   "cell_type": "code",
   "execution_count": null,
   "id": "9d70e55d",
   "metadata": {},
   "outputs": [],
   "source": [
    "def remove_fields(team_data):\n",
    "    player_fields = [\n",
    "        \"heroId\", \"level\", \"xp\", \"networth\", \"totalGold\", \"currentGold\",\n",
    "        \"lifeState\", \"respawnSeconds\", \"buybackCooldown\",\n",
    "        \"heroDamage\", \"towerDamage\", \"damageTakenPostReduction\",\n",
    "        \"kills\", \"deaths\", \"assists\",\n",
    "        \"lastHits\", \"denies\",\n",
    "        \"teamfightParticipation\",\n",
    "        \"obsPlaced\", \"senPlaced\",\n",
    "        \"x\", \"y\"\n",
    "    ]\n",
    "\n",
    "    players = []\n",
    "    for p in team_data.get(\"players\", []):\n",
    "        new_p = {}\n",
    "        for key in player_fields:\n",
    "            if key in p:\n",
    "                new_p[key] = p[key]\n",
    "        new_p[\"inventory\"] = [{\"id\": item.get(\"id\")} for item in p.get(\"inventory\", [])]\n",
    "        players.append(new_p)\n",
    "\n",
    "    buildings = {\n",
    "        name: {\"health\": b.get(\"health\")}\n",
    "        for name, b in team_data.get(\"buildings\", {}).items()\n",
    "    }\n",
    "\n",
    "    output = {\n",
    "        \"players\": players,\n",
    "        \"buildings\": buildings,\n",
    "        \"observerWards\": team_data.get(\"observerWards\", []),\n",
    "        \"totalCampsStacked\": team_data.get(\"totalCampsStacked\", 0),\n",
    "        \"totalRunePickups\": team_data.get(\"totalRunePickups\", 0),\n",
    "        \"totalTowersKilled\": team_data.get(\"totalTowersKilled\", 0),\n",
    "        \"totalRoshansKilled\": team_data.get(\"totalRoshansKilled\", 0),\n",
    "        \"totalSmokesUsed\": team_data.get(\"totalSmokesUsed\", 0),\n",
    "    }\n",
    "\n",
    "    return output\n"
   ]
  },
  {
   "cell_type": "code",
   "execution_count": null,
   "id": "4edf6d7d",
   "metadata": {},
   "outputs": [],
   "source": [
    "\n",
    "MAP_DIAG = 256.0\n",
    "\n",
    "def euclid(a, b):\n",
    "    return sqrt((a[0] - b[0]) ** 2 + (a[1] - b[1]) ** 2)\n",
    "\n",
    "def calculate_fields(team_data):\n",
    "    players = team_data.get(\"players\", [])\n",
    "    wards = team_data.get(\"observerWards\", []) \n",
    "    for p in players:\n",
    "        p['lifeState'] = 0 if p.get(\"lifeState\", 0) == 0 else 1\n",
    "        p[\"respawnSeconds\"] = max(0, p.get(\"respawnSeconds\", 0))\n",
    "\n",
    "    alive_xy = np.array([(p[\"x\"], p[\"y\"]) for p in players if p[\"lifeState\"] == 0], dtype=np.float32).reshape(-1, 2)\n",
    "    ward_xy = np.array([(w[\"x\"], w[\"y\"]) for w in wards], dtype=np.float32).reshape(-1, 2)\n",
    "\n",
    "    if len(alive_xy) >= 2:\n",
    "        dists = [euclid(a, b) for a, b in combinations(alive_xy, 2)]\n",
    "        team_pdist_mean = float(np.mean(dists))\n",
    "        team_pdist_max = float(np.max(dists))\n",
    "        team_pdist_std = float(np.std(dists, ddof=0))\n",
    "    else:\n",
    "        team_pdist_mean = team_pdist_max = team_pdist_std = 0.0\n",
    "\n",
    "    if len(alive_xy) > 0:\n",
    "        centroid = alive_xy.mean(axis=0)\n",
    "    else:\n",
    "        centroid = np.zeros(2, dtype=np.float32)\n",
    "\n",
    "    if len(ward_xy):\n",
    "        c2w = np.linalg.norm(ward_xy - centroid, axis=1)\n",
    "        centroid_ward_mean = float(np.mean(c2w))\n",
    "    else:\n",
    "        centroid_ward_mean = 0.0\n",
    "\n",
    "    if len(alive_xy) == 0 or len(ward_xy) == 0:\n",
    "        hw_mean = hw_min = hw_max = MAP_DIAG\n",
    "    else:\n",
    "        D = np.linalg.norm(alive_xy[:, None, :] - ward_xy[None, :, :], axis=2)\n",
    "        nearest_per_hero = D.min(axis=1)\n",
    "        hw_mean = float(nearest_per_hero.mean())\n",
    "        hw_min = float(nearest_per_hero.min())\n",
    "        hw_max = float(nearest_per_hero.max())\n",
    "\n",
    "    team_data.pop(\"observerWards\", None)\n",
    "    for p in players:\n",
    "        p.pop(\"x\", None)\n",
    "        p.pop(\"y\", None)\n",
    "\n",
    "    team_data[\"numWards\"] = len(wards)\n",
    "    team_data[\"pdistMean\"] = round(team_pdist_mean, 2)\n",
    "    team_data[\"pdistMax\"] = round(team_pdist_max, 2)\n",
    "    team_data[\"pdistStd\"] = round(team_pdist_std, 2)\n",
    "    team_data[\"centroidWardMean\"] = round(centroid_ward_mean, 2)\n",
    "    team_data[\"hwMean\"] = round(hw_mean, 2)\n",
    "    team_data[\"hwMin\"] = round(hw_min, 2)\n",
    "    team_data[\"hwMax\"] = round(hw_max, 2)\n",
    "\n",
    "    return team_data\n"
   ]
  },
  {
   "cell_type": "code",
   "execution_count": null,
   "id": "1262fd3a",
   "metadata": {},
   "outputs": [],
   "source": [
    "def process_slice(ts):\n",
    "    for team in ('radiant', 'dire'):\n",
    "        team_data = ts[team]\n",
    "        team_data = remove_fields(team_data)\n",
    "        team_data = calculate_fields(team_data)\n",
    "        ts[team] = team_data\n",
    "    return ts"
   ]
  },
  {
   "cell_type": "code",
   "execution_count": 61,
   "id": "f81c351d",
   "metadata": {},
   "outputs": [
    {
     "name": "stderr",
     "output_type": "stream",
     "text": [
      "100%|██████████| 11267/11267 [18:29<00:00, 10.16it/s]\n"
     ]
    }
   ],
   "source": [
    "replay_dir = \"../data/parsed_replays\"\n",
    "save_dir = \"../data/processed_replays\"\n",
    "os.makedirs(save_dir, exist_ok=True)\n",
    "\n",
    "for parsed_replay in tqdm.tqdm(os.listdir(replay_dir)):\n",
    "    with open(os.path.join(replay_dir, parsed_replay), 'r', encoding='utf-8') as f:\n",
    "        replay_data = json.load(f)\n",
    "    for time in replay_data:\n",
    "        ts = replay_data[time]\n",
    "        replay_data[time] = process_slice(ts)\n",
    "    with open(os.path.join(save_dir, parsed_replay), 'w', encoding='utf-8') as f:\n",
    "        json.dump(replay_data, f, indent=2)"
   ]
  },
  {
   "cell_type": "code",
   "execution_count": null,
   "id": "c41d62cd",
   "metadata": {},
   "outputs": [],
   "source": []
  }
 ],
 "metadata": {
  "kernelspec": {
   "display_name": "Python 3",
   "language": "python",
   "name": "python3"
  },
  "language_info": {
   "codemirror_mode": {
    "name": "ipython",
    "version": 3
   },
   "file_extension": ".py",
   "mimetype": "text/x-python",
   "name": "python",
   "nbconvert_exporter": "python",
   "pygments_lexer": "ipython3",
   "version": "3.9.13"
  }
 },
 "nbformat": 4,
 "nbformat_minor": 5
}
